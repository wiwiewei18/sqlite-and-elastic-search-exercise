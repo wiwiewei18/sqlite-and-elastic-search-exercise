{
 "cells": [
  {
   "cell_type": "markdown",
   "metadata": {},
   "source": [
    "# Database Practice"
   ]
  },
  {
   "cell_type": "markdown",
   "metadata": {},
   "source": [
    "## SQLite"
   ]
  },
  {
   "cell_type": "markdown",
   "metadata": {},
   "source": [
    "### Import Library"
   ]
  },
  {
   "cell_type": "code",
   "execution_count": 1,
   "metadata": {},
   "outputs": [],
   "source": [
    "# %pip install sqlite3\n",
    "import sqlite3\n",
    "\n",
    "# %pip install pandas\n",
    "import pandas as pd"
   ]
  },
  {
   "cell_type": "markdown",
   "metadata": {},
   "source": [
    "### Read Dataset"
   ]
  },
  {
   "cell_type": "code",
   "execution_count": 2,
   "metadata": {},
   "outputs": [
    {
     "data": {
      "text/html": [
       "<div>\n",
       "<style scoped>\n",
       "    .dataframe tbody tr th:only-of-type {\n",
       "        vertical-align: middle;\n",
       "    }\n",
       "\n",
       "    .dataframe tbody tr th {\n",
       "        vertical-align: top;\n",
       "    }\n",
       "\n",
       "    .dataframe thead th {\n",
       "        text-align: right;\n",
       "    }\n",
       "</style>\n",
       "<table border=\"1\" class=\"dataframe\">\n",
       "  <thead>\n",
       "    <tr style=\"text-align: right;\">\n",
       "      <th></th>\n",
       "      <th>InvoiceNo</th>\n",
       "      <th>StockCode</th>\n",
       "      <th>Description</th>\n",
       "      <th>Quantity</th>\n",
       "      <th>InvoiceDate</th>\n",
       "      <th>UnitPrice</th>\n",
       "      <th>CustomerID</th>\n",
       "      <th>Country</th>\n",
       "    </tr>\n",
       "  </thead>\n",
       "  <tbody>\n",
       "    <tr>\n",
       "      <th>0</th>\n",
       "      <td>536365</td>\n",
       "      <td>85123A</td>\n",
       "      <td>WHITE HANGING HEART T-LIGHT HOLDER</td>\n",
       "      <td>6</td>\n",
       "      <td>12/1/2010 8:26</td>\n",
       "      <td>2.55</td>\n",
       "      <td>17850.0</td>\n",
       "      <td>United Kingdom</td>\n",
       "    </tr>\n",
       "    <tr>\n",
       "      <th>1</th>\n",
       "      <td>536365</td>\n",
       "      <td>71053</td>\n",
       "      <td>WHITE METAL LANTERN</td>\n",
       "      <td>6</td>\n",
       "      <td>12/1/2010 8:26</td>\n",
       "      <td>3.39</td>\n",
       "      <td>17850.0</td>\n",
       "      <td>United Kingdom</td>\n",
       "    </tr>\n",
       "  </tbody>\n",
       "</table>\n",
       "</div>"
      ],
      "text/plain": [
       "  InvoiceNo StockCode                         Description  Quantity  \\\n",
       "0    536365    85123A  WHITE HANGING HEART T-LIGHT HOLDER         6   \n",
       "1    536365     71053                 WHITE METAL LANTERN         6   \n",
       "\n",
       "      InvoiceDate  UnitPrice  CustomerID         Country  \n",
       "0  12/1/2010 8:26       2.55     17850.0  United Kingdom  \n",
       "1  12/1/2010 8:26       3.39     17850.0  United Kingdom  "
      ]
     },
     "execution_count": 2,
     "metadata": {},
     "output_type": "execute_result"
    }
   ],
   "source": [
    "dataset_csv = pd.read_csv(\"./datasets/data.csv\", encoding='ISO-8859-1')\n",
    "\n",
    "dataset_csv.head(2)"
   ]
  },
  {
   "cell_type": "markdown",
   "metadata": {},
   "source": [
    "### Connect to SQLite"
   ]
  },
  {
   "cell_type": "code",
   "execution_count": 2,
   "metadata": {},
   "outputs": [],
   "source": [
    "connection = sqlite3.connect('./database/e-commerce.db')\n",
    "cursor = connection.cursor()"
   ]
  },
  {
   "cell_type": "markdown",
   "metadata": {},
   "source": [
    "### Create SQLite Table"
   ]
  },
  {
   "cell_type": "code",
   "execution_count": 26,
   "metadata": {},
   "outputs": [],
   "source": [
    "cursor.execute('''\n",
    "    CREATE TABLE sales_order (\n",
    "        InvoiceNo VARCHAR(255) NOT NULL,\n",
    "        StockCode VARCHAR(255) NOT NULL,\n",
    "        Description VARCHAR(255),\n",
    "        Quantity INTEGER NOT NULL,\n",
    "        InvoiceDate DATETIME NOT NULL,\n",
    "        UnitPrice FLOAT NOT NULL,\n",
    "        CustomerID FLOAT,\n",
    "        Country VARCHAR(255) NOT NULL\n",
    "    )\n",
    "''')\n",
    "\n",
    "connection.commit()"
   ]
  },
  {
   "cell_type": "markdown",
   "metadata": {},
   "source": [
    "### Insert Data into SQLite Table"
   ]
  },
  {
   "cell_type": "code",
   "execution_count": 27,
   "metadata": {},
   "outputs": [],
   "source": [
    "data = dataset_csv[['InvoiceNo', 'StockCode', 'Description', 'Quantity', 'InvoiceDate', 'UnitPrice', 'CustomerID', 'Country']].values.tolist()\n",
    "\n",
    "cursor.executemany('''\n",
    "    INSERT INTO sales_order (InvoiceNo, StockCode, Description, Quantity, InvoiceDate, UnitPrice, CustomerID, Country)\n",
    "    VALUES (?, ?, ?, ?, ?, ?, ?, ?)\n",
    "''', data)\n",
    "\n",
    "connection.commit()"
   ]
  },
  {
   "cell_type": "markdown",
   "metadata": {},
   "source": [
    "### Check sales_order SQLite Table"
   ]
  },
  {
   "cell_type": "code",
   "execution_count": 4,
   "metadata": {},
   "outputs": [
    {
     "name": "stdout",
     "output_type": "stream",
     "text": [
      "Columns: ['InvoiceNo', 'StockCode', 'Description', 'Quantity', 'InvoiceDate', 'UnitPrice', 'CustomerID', 'Country']\n",
      "Number of rows: 541909\n"
     ]
    }
   ],
   "source": [
    "import sqlite3\n",
    "\n",
    "conn = sqlite3.connect('./database/e-commerce.db') \n",
    "cur = conn.cursor()\n",
    "\n",
    "cur.execute(\"PRAGMA table_info(sales_order)\") \n",
    "sql_columns = [column[1] for column in cur.fetchall()] \n",
    "print(f\"Columns: {sql_columns}\")\n",
    "\n",
    "cur.execute(\"SELECT COUNT(*) FROM sales_order\") \n",
    "sql_num_rows = cur.fetchone()[0] \n",
    "print(f\"Number of rows: {sql_num_rows}\")\n",
    "\n",
    "conn.close()"
   ]
  },
  {
   "cell_type": "markdown",
   "metadata": {},
   "source": [
    "### 1. Total number of unique products and unique customers"
   ]
  },
  {
   "cell_type": "code",
   "execution_count": 6,
   "metadata": {},
   "outputs": [
    {
     "data": {
      "text/plain": [
       "4070"
      ]
     },
     "metadata": {},
     "output_type": "display_data"
    },
    {
     "data": {
      "text/plain": [
       "4372"
      ]
     },
     "metadata": {},
     "output_type": "display_data"
    }
   ],
   "source": [
    "sql_num_products = pd.read_sql_query('''\n",
    "    SELECT COUNT(DISTINCT StockCode) AS 'Unique Products' FROM sales_order\n",
    "''', connection)\n",
    "\n",
    "sql_num_products = sql_num_products['Unique Products'][0]\n",
    "\n",
    "display(sql_num_products)\n",
    "\n",
    "sql_num_customers = pd.read_sql_query('''\n",
    "    SELECT COUNT(DISTINCT CustomerID) AS 'Unique Customers' FROM sales_order\n",
    "''', connection)\n",
    "\n",
    "sql_num_customers = sql_num_customers['Unique Customers'][0]\n",
    "\n",
    "display(sql_num_customers)"
   ]
  },
  {
   "cell_type": "markdown",
   "metadata": {},
   "source": [
    "### 2. Total revenue for each product, limited to top 5"
   ]
  },
  {
   "cell_type": "code",
   "execution_count": 13,
   "metadata": {},
   "outputs": [
    {
     "data": {
      "text/plain": [
       "[('DOTCOM POSTAGE', 206245.48),\n",
       " ('REGENCY CAKESTAND 3 TIER', 164762.19),\n",
       " ('WHITE HANGING HEART T-LIGHT HOLDER', 99668.47),\n",
       " ('PARTY BUNTING', 98302.98),\n",
       " ('JUMBO BAG RED RETROSPOT', 92356.03)]"
      ]
     },
     "metadata": {},
     "output_type": "display_data"
    }
   ],
   "source": [
    "sql_top_product_revenues = pd.read_sql_query('''\n",
    "    SELECT \n",
    "        Description,\n",
    "        SUM(Quantity * UnitPrice) AS Revenue\n",
    "    FROM sales_order \n",
    "    GROUP BY Description \n",
    "    ORDER BY Revenue DESC\n",
    "    LIMIT 5\n",
    "''', connection)\n",
    "\n",
    "sql_top_product_revenues = list(sql_top_product_revenues.itertuples(index=False, name=None))\n",
    "\n",
    "display(sql_top_product_revenues)  "
   ]
  },
  {
   "cell_type": "markdown",
   "metadata": {},
   "source": [
    "### 3. The most profitable countries (by total sales), limited to top 5"
   ]
  },
  {
   "cell_type": "code",
   "execution_count": 3,
   "metadata": {},
   "outputs": [
    {
     "data": {
      "text/plain": [
       "[('United Kingdom', 8187806.364),\n",
       " ('Netherlands', 284661.54),\n",
       " ('EIRE', 263276.82),\n",
       " ('Germany', 221698.21),\n",
       " ('France', 197403.9)]"
      ]
     },
     "metadata": {},
     "output_type": "display_data"
    },
    {
     "data": {
      "text/plain": [
       "('United Kingdom', 'Netherlands', 'EIRE', 'Germany', 'France')"
      ]
     },
     "metadata": {},
     "output_type": "display_data"
    }
   ],
   "source": [
    "sql_top_countries = pd.read_sql_query('''\n",
    "    SELECT \n",
    "        Country,\n",
    "        SUM(Quantity * UnitPrice) AS Revenue\n",
    "    FROM sales_order \n",
    "    GROUP BY Country \n",
    "    ORDER BY Revenue DESC\n",
    "    LIMIT 5\n",
    "''', connection)\n",
    "\n",
    "sql_top_countries = list(sql_top_countries.itertuples(index=False, name=None))\n",
    "sql_top_country_names = tuple(map(lambda top_country: top_country[0], sql_top_countries))\n",
    "\n",
    "display(sql_top_countries)  \n",
    "display(sql_top_country_names)"
   ]
  },
  {
   "cell_type": "markdown",
   "metadata": {},
   "source": [
    "### 4. Top-selling products (by total sales) for each country, limited to top 5"
   ]
  },
  {
   "cell_type": "code",
   "execution_count": 4,
   "metadata": {},
   "outputs": [
    {
     "data": {
      "text/plain": [
       "{'United Kingdom': [('DOTCOM POSTAGE', 206245.48),\n",
       "  ('REGENCY CAKESTAND 3 TIER', 134405.94),\n",
       "  ('WHITE HANGING HEART T-LIGHT HOLDER', 93953.07),\n",
       "  ('PARTY BUNTING', 92501.73),\n",
       "  ('JUMBO BAG RED RETROSPOT', 84516.44)],\n",
       " 'Netherlands': [('RABBIT NIGHT LIGHT', 9568.48),\n",
       "  ('ROUND SNACK BOXES SET OF4 WOODLAND ', 7991.4),\n",
       "  ('SPACEBOY LUNCH BOX ', 7485.599999999999),\n",
       "  ('DOLLY GIRL LUNCH BOX', 6828.599999999999),\n",
       "  ('ROUND SNACK BOXES SET OF 4 FRUITS ', 4039.2)],\n",
       " 'EIRE': [('REGENCY CAKESTAND 3 TIER', 7442.849999999999),\n",
       "  ('CARRIAGE', 5175.0),\n",
       "  ('JAM MAKING SET WITH JARS', 3089.0),\n",
       "  ('3 TIER CAKE TIN RED AND CREAM', 3041.55),\n",
       "  ('WHITE HANGING HEART T-LIGHT HOLDER', 2857.8)],\n",
       " 'Germany': [('POSTAGE', 20821.0),\n",
       "  ('REGENCY CAKESTAND 3 TIER', 8257.35),\n",
       "  ('ROUND SNACK BOXES SET OF4 WOODLAND ', 3554.7000000000003),\n",
       "  ('ROUND SNACK BOXES SET OF 4 FRUITS ', 1949.9500000000003),\n",
       "  ('SPACEBOY LUNCH BOX ', 1629.4499999999998)],\n",
       " 'France': [('POSTAGE', 15065.0),\n",
       "  ('RABBIT NIGHT LIGHT', 7275.12),\n",
       "  ('REGENCY CAKESTAND 3 TIER', 2581.7999999999997),\n",
       "  ('RED TOADSTOOL LED NIGHT LIGHT', 2168.1),\n",
       "  ('PLASTERS IN TIN WOODLAND ANIMALS', 1868.3999999999999)]}"
      ]
     },
     "metadata": {},
     "output_type": "display_data"
    }
   ],
   "source": [
    "sql_top_selling_product = pd.read_sql_query(f'''\n",
    "    SELECT \n",
    "        Country,\n",
    "        Description,\n",
    "        Revenue\n",
    "    FROM (\n",
    "        SELECT \n",
    "            Country,\n",
    "            Description,\n",
    "            SUM(Quantity * UnitPrice) AS Revenue,\n",
    "            ROW_NUMBER() OVER (PARTITION BY Country ORDER BY SUM(Quantity * UnitPrice) DESC) AS row_num\n",
    "        FROM sales_order\n",
    "        WHERE country IN {sql_top_country_names}\n",
    "        GROUP BY Country, Description\n",
    "    ) AS ranked_sales\n",
    "    WHERE row_num <= 5\n",
    "    ORDER BY \n",
    "        CASE Country\n",
    "            WHEN 'United Kingdom' THEN 1\n",
    "            WHEN 'Netherlands' THEN 2\n",
    "            WHEN 'EIRE' THEN 3\n",
    "            WHEN 'Germany' THEN 4\n",
    "            WHEN 'France' THEN 5\n",
    "            ELSE 6\n",
    "        END,\n",
    "        Revenue DESC;\n",
    "''', connection)\n",
    "\n",
    "sql_top_selling_products_by_country_by_sales = {}\n",
    "\n",
    "for row in sql_top_selling_product.itertuples(index=False):\n",
    "    country = row.Country\n",
    "    description = row.Description\n",
    "    revenue = row.Revenue\n",
    "    \n",
    "    if country not in sql_top_selling_products_by_country_by_sales:\n",
    "        sql_top_selling_products_by_country_by_sales[country] = []\n",
    "    \n",
    "    sql_top_selling_products_by_country_by_sales[country].append((description, revenue))\n",
    "\n",
    "display(sql_top_selling_products_by_country_by_sales)"
   ]
  },
  {
   "cell_type": "markdown",
   "metadata": {},
   "source": [
    "### 5. Top-selling products (by quantity) for each country, limited to top 5"
   ]
  },
  {
   "cell_type": "code",
   "execution_count": 7,
   "metadata": {},
   "outputs": [
    {
     "data": {
      "text/plain": [
       "{'United Kingdom': [('United Kingdom WORLD WAR 2 GLIDERS ASSTD DESIGNS',\n",
       "   48326),\n",
       "  ('United Kingdom JUMBO BAG RED RETROSPOT', 43167),\n",
       "  ('United Kingdom POPCORN HOLDER', 34365),\n",
       "  ('United Kingdom ASSORTED COLOUR BIRD ORNAMENT', 33679),\n",
       "  ('United Kingdom WHITE HANGING HEART T-LIGHT HOLDER', 33193)],\n",
       " 'Netherlands': [('Netherlands RABBIT NIGHT LIGHT', 4801),\n",
       "  ('Netherlands SPACEBOY LUNCH BOX ', 4528),\n",
       "  ('Netherlands DOLLY GIRL LUNCH BOX', 4132),\n",
       "  ('Netherlands PACK OF 72 RETROSPOT CAKE CASES', 4128),\n",
       "  ('Netherlands ROUND SNACK BOXES SET OF4 WOODLAND ', 3132)],\n",
       " 'EIRE': [('EIRE PACK OF 72 RETROSPOT CAKE CASES', 1728),\n",
       "  ('EIRE 60 TEATIME FAIRY CAKE CASES', 1536),\n",
       "  ('EIRE VINTAGE SNAP CARDS', 1492),\n",
       "  ('EIRE ASSORTED INCENSE PACK', 1440),\n",
       "  ('EIRE PACK OF 60 PINK PAISLEY CAKE CASES', 1296)],\n",
       " 'Germany': [('Germany ROUND SNACK BOXES SET OF4 WOODLAND ', 1218),\n",
       "  ('Germany ASSORTED COLOURS SILK FAN', 1164),\n",
       "  ('Germany POSTAGE', 1104),\n",
       "  ('Germany WOODLAND CHARLOTTE BAG', 1019),\n",
       "  ('Germany PACK OF 72 RETROSPOT CAKE CASES', 1002)],\n",
       " 'France': [('France RABBIT NIGHT LIGHT', 4023),\n",
       "  ('France MINI PAINT SET VINTAGE ', 2196),\n",
       "  ('France RED TOADSTOOL LED NIGHT LIGHT', 1314),\n",
       "  ('France SET/6 RED SPOTTY PAPER CUPS', 1272),\n",
       "  ('France ASSORTED COLOUR BIRD ORNAMENT', 1204)]}"
      ]
     },
     "metadata": {},
     "output_type": "display_data"
    }
   ],
   "source": [
    "sql_top_selling_product = pd.read_sql_query(f'''\n",
    "    SELECT \n",
    "        Country,\n",
    "        Description,\n",
    "        Quantity\n",
    "    FROM (\n",
    "        SELECT \n",
    "            Country,\n",
    "            Description,\n",
    "            SUM(Quantity) AS Quantity,\n",
    "            ROW_NUMBER() OVER (PARTITION BY Country ORDER BY SUM(Quantity) DESC) AS row_num\n",
    "        FROM sales_order\n",
    "        WHERE country IN {sql_top_country_names}\n",
    "        GROUP BY Country, Description\n",
    "    ) AS ranked_sales\n",
    "    WHERE row_num <= 5\n",
    "    ORDER BY \n",
    "        CASE Country\n",
    "            WHEN 'United Kingdom' THEN 1\n",
    "            WHEN 'Netherlands' THEN 2\n",
    "            WHEN 'EIRE' THEN 3\n",
    "            WHEN 'Germany' THEN 4\n",
    "            WHEN 'France' THEN 5\n",
    "            ELSE 6\n",
    "        END,\n",
    "        Quantity DESC;\n",
    "''', connection)\n",
    "\n",
    "sql_top_selling_products_by_country_by_quantity = {}\n",
    "\n",
    "for row in sql_top_selling_product.itertuples(index=False):\n",
    "    country = row.Country\n",
    "    description = row.Description\n",
    "    quantity = row.Quantity\n",
    "    \n",
    "    if country not in sql_top_selling_products_by_country_by_quantity:\n",
    "        sql_top_selling_products_by_country_by_quantity[country] = []\n",
    "    \n",
    "    sql_top_selling_products_by_country_by_quantity[country].append((country + ' ' + description, quantity))\n",
    "\n",
    "display(sql_top_selling_products_by_country_by_quantity)"
   ]
  },
  {
   "cell_type": "markdown",
   "metadata": {},
   "source": [
    "## Elastic Search"
   ]
  },
  {
   "cell_type": "markdown",
   "metadata": {},
   "source": [
    "### Import Library"
   ]
  },
  {
   "cell_type": "code",
   "execution_count": 3,
   "metadata": {},
   "outputs": [],
   "source": [
    "from elasticsearch import Elasticsearch\n",
    "import time\n",
    "import json"
   ]
  },
  {
   "cell_type": "markdown",
   "metadata": {},
   "source": [
    "### Preprocessing Dataset"
   ]
  },
  {
   "cell_type": "code",
   "execution_count": 4,
   "metadata": {},
   "outputs": [],
   "source": [
    "dataset_csv = dataset_csv.dropna()"
   ]
  },
  {
   "cell_type": "code",
   "execution_count": 5,
   "metadata": {},
   "outputs": [
    {
     "data": {
      "text/html": [
       "<div>\n",
       "<style scoped>\n",
       "    .dataframe tbody tr th:only-of-type {\n",
       "        vertical-align: middle;\n",
       "    }\n",
       "\n",
       "    .dataframe tbody tr th {\n",
       "        vertical-align: top;\n",
       "    }\n",
       "\n",
       "    .dataframe thead th {\n",
       "        text-align: right;\n",
       "    }\n",
       "</style>\n",
       "<table border=\"1\" class=\"dataframe\">\n",
       "  <thead>\n",
       "    <tr style=\"text-align: right;\">\n",
       "      <th></th>\n",
       "      <th>InvoiceNo</th>\n",
       "      <th>StockCode</th>\n",
       "      <th>Description</th>\n",
       "      <th>Quantity</th>\n",
       "      <th>InvoiceDate</th>\n",
       "      <th>UnitPrice</th>\n",
       "      <th>CustomerID</th>\n",
       "      <th>Country</th>\n",
       "    </tr>\n",
       "  </thead>\n",
       "  <tbody>\n",
       "    <tr>\n",
       "      <th>0</th>\n",
       "      <td>536365</td>\n",
       "      <td>85123A</td>\n",
       "      <td>WHITE HANGING HEART T-LIGHT HOLDER</td>\n",
       "      <td>6</td>\n",
       "      <td>12/1/2010 8:26</td>\n",
       "      <td>2.55</td>\n",
       "      <td>17850.0</td>\n",
       "      <td>United Kingdom</td>\n",
       "    </tr>\n",
       "    <tr>\n",
       "      <th>1</th>\n",
       "      <td>536365</td>\n",
       "      <td>71053</td>\n",
       "      <td>WHITE METAL LANTERN</td>\n",
       "      <td>6</td>\n",
       "      <td>12/1/2010 8:26</td>\n",
       "      <td>3.39</td>\n",
       "      <td>17850.0</td>\n",
       "      <td>United Kingdom</td>\n",
       "    </tr>\n",
       "    <tr>\n",
       "      <th>2</th>\n",
       "      <td>536365</td>\n",
       "      <td>84406B</td>\n",
       "      <td>CREAM CUPID HEARTS COAT HANGER</td>\n",
       "      <td>8</td>\n",
       "      <td>12/1/2010 8:26</td>\n",
       "      <td>2.75</td>\n",
       "      <td>17850.0</td>\n",
       "      <td>United Kingdom</td>\n",
       "    </tr>\n",
       "    <tr>\n",
       "      <th>3</th>\n",
       "      <td>536365</td>\n",
       "      <td>84029G</td>\n",
       "      <td>KNITTED UNION FLAG HOT WATER BOTTLE</td>\n",
       "      <td>6</td>\n",
       "      <td>12/1/2010 8:26</td>\n",
       "      <td>3.39</td>\n",
       "      <td>17850.0</td>\n",
       "      <td>United Kingdom</td>\n",
       "    </tr>\n",
       "    <tr>\n",
       "      <th>4</th>\n",
       "      <td>536365</td>\n",
       "      <td>84029E</td>\n",
       "      <td>RED WOOLLY HOTTIE WHITE HEART.</td>\n",
       "      <td>6</td>\n",
       "      <td>12/1/2010 8:26</td>\n",
       "      <td>3.39</td>\n",
       "      <td>17850.0</td>\n",
       "      <td>United Kingdom</td>\n",
       "    </tr>\n",
       "  </tbody>\n",
       "</table>\n",
       "</div>"
      ],
      "text/plain": [
       "  InvoiceNo StockCode                          Description  Quantity  \\\n",
       "0    536365    85123A   WHITE HANGING HEART T-LIGHT HOLDER         6   \n",
       "1    536365     71053                  WHITE METAL LANTERN         6   \n",
       "2    536365    84406B       CREAM CUPID HEARTS COAT HANGER         8   \n",
       "3    536365    84029G  KNITTED UNION FLAG HOT WATER BOTTLE         6   \n",
       "4    536365    84029E       RED WOOLLY HOTTIE WHITE HEART.         6   \n",
       "\n",
       "      InvoiceDate  UnitPrice  CustomerID         Country  \n",
       "0  12/1/2010 8:26       2.55     17850.0  United Kingdom  \n",
       "1  12/1/2010 8:26       3.39     17850.0  United Kingdom  \n",
       "2  12/1/2010 8:26       2.75     17850.0  United Kingdom  \n",
       "3  12/1/2010 8:26       3.39     17850.0  United Kingdom  \n",
       "4  12/1/2010 8:26       3.39     17850.0  United Kingdom  "
      ]
     },
     "execution_count": 5,
     "metadata": {},
     "output_type": "execute_result"
    }
   ],
   "source": [
    "dataset_csv.head()"
   ]
  },
  {
   "cell_type": "markdown",
   "metadata": {},
   "source": [
    "### Connect to Elastic Search"
   ]
  },
  {
   "cell_type": "code",
   "execution_count": 6,
   "metadata": {},
   "outputs": [],
   "source": [
    "es = Elasticsearch([{'host': 'localhost', 'port': 9200, 'scheme': 'http'}])"
   ]
  },
  {
   "cell_type": "markdown",
   "metadata": {},
   "source": [
    "### Create Index and Insert Data"
   ]
  },
  {
   "cell_type": "code",
   "execution_count": 9,
   "metadata": {},
   "outputs": [
    {
     "name": "stdout",
     "output_type": "stream",
     "text": [
      "{\n",
      "    \"acknowledged\": true,\n",
      "    \"shards_acknowledged\": true,\n",
      "    \"index\": \"e_commerce_sales_order\"\n",
      "}\n"
     ]
    }
   ],
   "source": [
    "response = es.options(ignore_status=[400]).indices.create(index='e_commerce_sales_order')\n",
    "print(json.dumps(response.body, indent=4))"
   ]
  },
  {
   "cell_type": "code",
   "execution_count": 8,
   "metadata": {},
   "outputs": [
    {
     "name": "stdout",
     "output_type": "stream",
     "text": [
      "{\n",
      "    \"acknowledged\": true\n",
      "}\n"
     ]
    }
   ],
   "source": [
    "response = es.options(ignore_status=[400, 404]).indices.delete(index='e_commerce_sales_order')\n",
    "print(json.dumps(response.body, indent=4))"
   ]
  },
  {
   "cell_type": "code",
   "execution_count": 13,
   "metadata": {},
   "outputs": [
    {
     "data": {
      "text/plain": [
       "(406829, [])"
      ]
     },
     "execution_count": 13,
     "metadata": {},
     "output_type": "execute_result"
    }
   ],
   "source": [
    "from utils.elastic_search_utils import df_to_elasticsearch\n",
    "from elasticsearch.helpers import bulk\n",
    "\n",
    "bulk(es, df_to_elasticsearch(dataset_csv, 'e_commerce_sales_order'))"
   ]
  },
  {
   "cell_type": "code",
   "execution_count": 12,
   "metadata": {},
   "outputs": [
    {
     "name": "stdout",
     "output_type": "stream",
     "text": [
      "{\n",
      "    \"e_commerce_sales_order\": {\n",
      "        \"mappings\": {}\n",
      "    }\n",
      "}\n"
     ]
    }
   ],
   "source": [
    "response = es.indices.get_mapping(index='e_commerce_sales_order')\n",
    "print(json.dumps(response.body, indent=4))"
   ]
  },
  {
   "cell_type": "markdown",
   "metadata": {},
   "source": [
    "## Submission"
   ]
  },
  {
   "cell_type": "code",
   "execution_count": 16,
   "metadata": {},
   "outputs": [
    {
     "data": {
      "text/plain": [
       "'Assignment successfully submitted'"
      ]
     },
     "execution_count": 16,
     "metadata": {},
     "output_type": "execute_result"
    }
   ],
   "source": [
    "student_id = \"REAINTCZ\" \n",
    "name = \"Wiwie Sanjaya\"\n",
    "drive_link = \"https://github.com/wiwiewei18/sqlite-and-elastic-search-exercise\"  \n",
    "\n",
    "assignment_id = \"00_database_project\"\n",
    "\n",
    "from rggrader import submit, submit_image\n",
    "\n",
    "# question_id = \"01_sql_columns\"\n",
    "# submit(student_id, name, assignment_id, str(sql_columns), question_id, drive_link)\n",
    "# question_id = \"02_sql_num_rows\"\n",
    "# submit(student_id, name, assignment_id, str(sql_num_rows), question_id, drive_link)\n",
    "# question_id = \"03_sql_num_products\"\n",
    "# submit(student_id, name, assignment_id, str(sql_num_products), question_id, drive_link)\n",
    "# question_id = \"04_sql_num_customers\"\n",
    "# submit(student_id, name, assignment_id, str(sql_num_customers), question_id, drive_link)\n",
    "# question_id = \"05_sql_top_product_revenues\"\n",
    "# submit(student_id, name, assignment_id, str(sql_top_product_revenues), question_id, drive_link)\n",
    "# question_id = \"06_sql_top_countries\"\n",
    "# submit(student_id, name, assignment_id, str(sql_top_countries), question_id, drive_link)\n",
    "# question_id = \"07_sql_top_selling_products_by_country_by_sales\"\n",
    "# submit(student_id, name, assignment_id, str(sql_top_selling_products_by_country_by_sales), question_id, drive_link)\n",
    "# question_id = \"08_sql_top_selling_products_by_country_by_quantity\"\n",
    "# submit(student_id, name, assignment_id, str(sql_top_selling_products_by_country_by_quantity), question_id, drive_link)"
   ]
  }
 ],
 "metadata": {
  "kernelspec": {
   "display_name": "ruang-guru-playground",
   "language": "python",
   "name": "python3"
  },
  "language_info": {
   "codemirror_mode": {
    "name": "ipython",
    "version": 3
   },
   "file_extension": ".py",
   "mimetype": "text/x-python",
   "name": "python",
   "nbconvert_exporter": "python",
   "pygments_lexer": "ipython3",
   "version": "3.12.4"
  }
 },
 "nbformat": 4,
 "nbformat_minor": 2
}
